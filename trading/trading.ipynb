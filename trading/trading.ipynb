{
 "cells": [
  {
   "cell_type": "code",
   "execution_count": 1,
   "metadata": {},
   "outputs": [],
   "source": [
    "import tkinter as tk\n",
    "from tkinter import ttk\n",
    "import matplotlib\n",
    "matplotlib.use(\"TkAgg\")\n",
    "from matplotlib.backends.backend_tkagg import FigureCanvasTkAgg, NavigationToolbar2Tk\n",
    "from matplotlib.figure import Figure\n",
    "from matplotlib import style\n",
    "import matplotlib.animation as animation"
   ]
  },
  {
   "cell_type": "code",
   "execution_count": 2,
   "metadata": {},
   "outputs": [],
   "source": [
    "LARGE_FONT = (\"Verdana\",12)\n",
    "style.use(\"ggplot\")\n",
    "f = Figure(figsize=(5,5), dpi=100)\n",
    "a = f.add_subplot(111)"
   ]
  },
  {
   "cell_type": "code",
   "execution_count": null,
   "metadata": {},
   "outputs": [],
   "source": [
    "def animate(i):\n",
    "    pullData = open('sampleData.txt','r').read()\n",
    "    dataList = pullData.split('\\n')\n",
    "    xList = []; yList = [];\n",
    "    for eachline in dataList:\n",
    "        if len(eachline)>1:\n",
    "            x, y = eachline.split(',')\n",
    "            xList.append(int(x))\n",
    "            yList.append(int(y))\n",
    "            \n",
    "    a.clear()\n",
    "    a.plot(xList, yList)"
   ]
  },
  {
   "cell_type": "code",
   "execution_count": null,
   "metadata": {},
   "outputs": [],
   "source": [
    "class tradingGUI(tk.Tk):\n",
    "    def __init__(self,*args,**kwargs):\n",
    "        tk.Tk.__init__(self, *args, **kwargs)\n",
    "        tk.Tk.wm_title(self,\"Trading project\")\n",
    "        \n",
    "        container = tk.Frame(self)\n",
    "        container.pack(side=\"top\",fill=\"both\",expand=True)\n",
    "        container.grid_rowconfigure(0,weight=1)\n",
    "        container.grid_columnconfigure(0,weight=1)\n",
    "        \n",
    "        self.frames = {}\n",
    "        for F in (StartPage, PageOne, PageTwo, PageThree):\n",
    "            frame = F(container, self)\n",
    "        \n",
    "            self.frames[F] = frame\n",
    "            frame.grid(row=0, column=0, sticky='nsew')\n",
    "        \n",
    "        self.show_frame(StartPage)\n",
    "        \n",
    "    def show_frame(self, cont):\n",
    "        frame = self.frames[cont]\n",
    "        frame.tkraise()"
   ]
  },
  {
   "cell_type": "code",
   "execution_count": 3,
   "metadata": {},
   "outputs": [],
   "source": [
    "class StartPage(tk.Frame):\n",
    "    def __init__(self, parent, controller):\n",
    "        tk.Frame.__init__(self, parent)\n",
    "        label = tk.Label(self,text=\"Start Page\", font=LARGE_FONT)\n",
    "        label.pack(pady=10, padx=10)\n",
    "        \n",
    "        button1 = ttk.Button(self,text='Visit Page 1', command = lambda: controller.show_frame(PageOne))\n",
    "        button1.pack()\n",
    "        \n",
    "        button2 = ttk.Button(self,text='Visit Page 2', command = lambda: controller.show_frame(PageTwo))\n",
    "        button2.pack()\n",
    "        \n",
    "        button3 = ttk.Button(self,text='Graph Page', command = lambda: controller.show_frame(PageThree))\n",
    "        button3.pack()"
   ]
  },
  {
   "cell_type": "code",
   "execution_count": 4,
   "metadata": {},
   "outputs": [],
   "source": [
    "class PageOne(tk.Frame):\n",
    "    def __init__(self, parent, controller):\n",
    "        tk.Frame.__init__(self, parent)\n",
    "        label = tk.Label(self,text=\"Page One\", font=LARGE_FONT)\n",
    "        label.pack(pady=10, padx=10)\n",
    "        \n",
    "        button1 = ttk.Button(self,text='Back to home', command = lambda: controller.show_frame(StartPage))\n",
    "        button1.pack()\n",
    "        \n",
    "        button2 = ttk.Button(self,text='Back to Page two', command = lambda: controller.show_frame(PageTwo))\n",
    "        button2.pack()\n",
    "        \n",
    "        button2 = ttk.Button(self,text='Graph Page', command = lambda: controller.show_frame(PageThree))\n",
    "        button2.pack()"
   ]
  },
  {
   "cell_type": "code",
   "execution_count": 5,
   "metadata": {},
   "outputs": [],
   "source": [
    "class PageTwo(tk.Frame):\n",
    "    def __init__(self, parent, controller):\n",
    "        tk.Frame.__init__(self, parent)\n",
    "        label = tk.Label(self,text=\"Page Two\", font=LARGE_FONT)\n",
    "        label.pack(pady=10, padx=10)\n",
    "        \n",
    "        button1 = ttk.Button(self,text='Back to home', command = lambda: controller.show_frame(StartPage))\n",
    "        button1.pack()\n",
    "        \n",
    "        button2 = ttk.Button(self,text='Back to Page One', command = lambda: controller.show_frame(PageOne))\n",
    "        button2.pack()"
   ]
  },
  {
   "cell_type": "code",
   "execution_count": 6,
   "metadata": {},
   "outputs": [],
   "source": [
    "class PageThree(tk.Frame):\n",
    "    def __init__(self, parent, controller):\n",
    "        tk.Frame.__init__(self, parent)\n",
    "        label = tk.Label(self,text=\"Graph Page\", font=LARGE_FONT)\n",
    "        label.pack(pady=10, padx=10)\n",
    "        \n",
    "        button1 = ttk.Button(self,text='Back to home', command = lambda: controller.show_frame(StartPage))\n",
    "        button1.pack()\n",
    "        \n",
    "        canvas = FigureCanvasTkAgg(f, self)\n",
    "        canvas.draw()\n",
    "        canvas.get_tk_widget().pack(side=tk.TOP, fill=tk.BOTH, expand = True)\n",
    "        \n",
    "        toolbar=NavigationToolbar2Tk(canvas, self)\n",
    "        toolbar.update()\n",
    "        canvas._tkcanvas.pack(side=tk.TOP, fill=tk.BOTH, expand = True)\n",
    "        \n",
    "        "
   ]
  },
  {
   "cell_type": "code",
   "execution_count": 7,
   "metadata": {},
   "outputs": [],
   "source": [
    "app = tradingGUI()\n",
    "anime = animation.FuncAnimation(f, animate, interval=5000)\n",
    "app.mainloop()"
   ]
  },
  {
   "cell_type": "code",
   "execution_count": null,
   "metadata": {},
   "outputs": [],
   "source": []
  }
 ],
 "metadata": {
  "kernelspec": {
   "display_name": "Python 3",
   "language": "python",
   "name": "python3"
  },
  "language_info": {
   "codemirror_mode": {
    "name": "ipython",
    "version": 3
   },
   "file_extension": ".py",
   "mimetype": "text/x-python",
   "name": "python",
   "nbconvert_exporter": "python",
   "pygments_lexer": "ipython3",
   "version": "3.6.8"
  }
 },
 "nbformat": 4,
 "nbformat_minor": 2
}
