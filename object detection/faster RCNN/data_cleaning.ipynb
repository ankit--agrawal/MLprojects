{
 "cells": [
  {
   "cell_type": "code",
   "execution_count": 1,
   "metadata": {},
   "outputs": [
    {
     "name": "stdout",
     "output_type": "stream",
     "text": [
      "Populating the interactive namespace from numpy and matplotlib\n"
     ]
    }
   ],
   "source": [
    "%pylab inline"
   ]
  },
  {
   "cell_type": "code",
   "execution_count": 2,
   "metadata": {},
   "outputs": [],
   "source": [
    "import os, sys, random\n",
    "import xml.etree.ElementTree as ET\n",
    "from glob import glob\n",
    "import pandas as pd\n",
    "from shutil import copyfile\n",
    "from math import ceil\n",
    "from sklearn.utils import shuffle"
   ]
  },
  {
   "cell_type": "code",
   "execution_count": 3,
   "metadata": {},
   "outputs": [],
   "source": [
    "annotations = glob('./BCCD_Dataset/BCCD/Annotations/*.xml')\n",
    "path = './BCCD_Dataset/BCCD/JPEGImages/'"
   ]
  },
  {
   "cell_type": "code",
   "execution_count": 4,
   "metadata": {},
   "outputs": [],
   "source": [
    "df = []; count = 0;\n",
    "for file in annotations:\n",
    "    row = [];\n",
    "    prev_file = path + file.split('/')[-1].split('.')[0]+'.jpg'\n",
    "    filename = str(count)+'.jpg'\n",
    "    count += 1\n",
    "    parsedXML = ET.parse(file)\n",
    "    for node in parsedXML.getroot().iter('object'):\n",
    "        blood_cells = node.find('name').text\n",
    "        xmin = int(node.find('bndbox/xmin').text)\n",
    "        xmax = int(node.find('bndbox/xmax').text)\n",
    "        ymin = int(node.find('bndbox/ymin').text)\n",
    "        ymax = int(node.find('bndbox/ymax').text)\n",
    "        \n",
    "        row = [prev_file, filename, blood_cells, xmin, xmax, ymin, ymax]\n",
    "        df.append(row)"
   ]
  },
  {
   "cell_type": "code",
   "execution_count": 5,
   "metadata": {},
   "outputs": [],
   "source": [
    "dataset = pd.DataFrame(df, columns = ['prev_file','filename','cell_type','xmin','xmax','ymin', 'ymax'])"
   ]
  },
  {
   "cell_type": "code",
   "execution_count": 6,
   "metadata": {},
   "outputs": [
    {
     "data": {
      "text/html": [
       "<div>\n",
       "<style scoped>\n",
       "    .dataframe tbody tr th:only-of-type {\n",
       "        vertical-align: middle;\n",
       "    }\n",
       "\n",
       "    .dataframe tbody tr th {\n",
       "        vertical-align: top;\n",
       "    }\n",
       "\n",
       "    .dataframe thead th {\n",
       "        text-align: right;\n",
       "    }\n",
       "</style>\n",
       "<table border=\"1\" class=\"dataframe\">\n",
       "  <thead>\n",
       "    <tr style=\"text-align: right;\">\n",
       "      <th></th>\n",
       "      <th>prev_file</th>\n",
       "      <th>filename</th>\n",
       "      <th>cell_type</th>\n",
       "      <th>xmin</th>\n",
       "      <th>xmax</th>\n",
       "      <th>ymin</th>\n",
       "      <th>ymax</th>\n",
       "    </tr>\n",
       "  </thead>\n",
       "  <tbody>\n",
       "    <tr>\n",
       "      <th>0</th>\n",
       "      <td>./BCCD_Dataset/BCCD/JPEGImages/BloodImage_0006...</td>\n",
       "      <td>0.jpg</td>\n",
       "      <td>RBC</td>\n",
       "      <td>235</td>\n",
       "      <td>349</td>\n",
       "      <td>23</td>\n",
       "      <td>127</td>\n",
       "    </tr>\n",
       "    <tr>\n",
       "      <th>1</th>\n",
       "      <td>./BCCD_Dataset/BCCD/JPEGImages/BloodImage_0006...</td>\n",
       "      <td>0.jpg</td>\n",
       "      <td>RBC</td>\n",
       "      <td>388</td>\n",
       "      <td>488</td>\n",
       "      <td>147</td>\n",
       "      <td>243</td>\n",
       "    </tr>\n",
       "    <tr>\n",
       "      <th>2</th>\n",
       "      <td>./BCCD_Dataset/BCCD/JPEGImages/BloodImage_0006...</td>\n",
       "      <td>0.jpg</td>\n",
       "      <td>RBC</td>\n",
       "      <td>482</td>\n",
       "      <td>598</td>\n",
       "      <td>218</td>\n",
       "      <td>338</td>\n",
       "    </tr>\n",
       "    <tr>\n",
       "      <th>3</th>\n",
       "      <td>./BCCD_Dataset/BCCD/JPEGImages/BloodImage_0006...</td>\n",
       "      <td>0.jpg</td>\n",
       "      <td>RBC</td>\n",
       "      <td>359</td>\n",
       "      <td>475</td>\n",
       "      <td>259</td>\n",
       "      <td>379</td>\n",
       "    </tr>\n",
       "    <tr>\n",
       "      <th>4</th>\n",
       "      <td>./BCCD_Dataset/BCCD/JPEGImages/BloodImage_0006...</td>\n",
       "      <td>0.jpg</td>\n",
       "      <td>RBC</td>\n",
       "      <td>34</td>\n",
       "      <td>148</td>\n",
       "      <td>172</td>\n",
       "      <td>243</td>\n",
       "    </tr>\n",
       "  </tbody>\n",
       "</table>\n",
       "</div>"
      ],
      "text/plain": [
       "                                           prev_file filename cell_type  xmin  \\\n",
       "0  ./BCCD_Dataset/BCCD/JPEGImages/BloodImage_0006...    0.jpg       RBC   235   \n",
       "1  ./BCCD_Dataset/BCCD/JPEGImages/BloodImage_0006...    0.jpg       RBC   388   \n",
       "2  ./BCCD_Dataset/BCCD/JPEGImages/BloodImage_0006...    0.jpg       RBC   482   \n",
       "3  ./BCCD_Dataset/BCCD/JPEGImages/BloodImage_0006...    0.jpg       RBC   359   \n",
       "4  ./BCCD_Dataset/BCCD/JPEGImages/BloodImage_0006...    0.jpg       RBC    34   \n",
       "\n",
       "   xmax  ymin  ymax  \n",
       "0   349    23   127  \n",
       "1   488   147   243  \n",
       "2   598   218   338  \n",
       "3   475   259   379  \n",
       "4   148   172   243  "
      ]
     },
     "execution_count": 6,
     "metadata": {},
     "output_type": "execute_result"
    }
   ],
   "source": [
    "dataset.head()"
   ]
  },
  {
   "cell_type": "code",
   "execution_count": 7,
   "metadata": {},
   "outputs": [],
   "source": [
    "dataset[['filename','cell_type','xmin','xmax','ymin', 'ymax']].to_csv('dataset.csv',sep=' ')"
   ]
  },
  {
   "cell_type": "code",
   "execution_count": 8,
   "metadata": {},
   "outputs": [
    {
     "data": {
      "text/html": [
       "<div>\n",
       "<style scoped>\n",
       "    .dataframe tbody tr th:only-of-type {\n",
       "        vertical-align: middle;\n",
       "    }\n",
       "\n",
       "    .dataframe tbody tr th {\n",
       "        vertical-align: top;\n",
       "    }\n",
       "\n",
       "    .dataframe thead th {\n",
       "        text-align: right;\n",
       "    }\n",
       "</style>\n",
       "<table border=\"1\" class=\"dataframe\">\n",
       "  <thead>\n",
       "    <tr style=\"text-align: right;\">\n",
       "      <th></th>\n",
       "      <th>prev_file</th>\n",
       "      <th>filename</th>\n",
       "      <th>cell_type</th>\n",
       "      <th>xmin</th>\n",
       "      <th>xmax</th>\n",
       "      <th>ymin</th>\n",
       "      <th>ymax</th>\n",
       "    </tr>\n",
       "  </thead>\n",
       "  <tbody>\n",
       "    <tr>\n",
       "      <th>3070</th>\n",
       "      <td>./BCCD_Dataset/BCCD/JPEGImages/BloodImage_0008...</td>\n",
       "      <td>225.jpg</td>\n",
       "      <td>WBC</td>\n",
       "      <td>257</td>\n",
       "      <td>380</td>\n",
       "      <td>335</td>\n",
       "      <td>456</td>\n",
       "    </tr>\n",
       "    <tr>\n",
       "      <th>4535</th>\n",
       "      <td>./BCCD_Dataset/BCCD/JPEGImages/BloodImage_0029...</td>\n",
       "      <td>337.jpg</td>\n",
       "      <td>RBC</td>\n",
       "      <td>417</td>\n",
       "      <td>536</td>\n",
       "      <td>373</td>\n",
       "      <td>480</td>\n",
       "    </tr>\n",
       "    <tr>\n",
       "      <th>4839</th>\n",
       "      <td>./BCCD_Dataset/BCCD/JPEGImages/BloodImage_0040...</td>\n",
       "      <td>360.jpg</td>\n",
       "      <td>RBC</td>\n",
       "      <td>479</td>\n",
       "      <td>583</td>\n",
       "      <td>105</td>\n",
       "      <td>202</td>\n",
       "    </tr>\n",
       "    <tr>\n",
       "      <th>1348</th>\n",
       "      <td>./BCCD_Dataset/BCCD/JPEGImages/BloodImage_0024...</td>\n",
       "      <td>96.jpg</td>\n",
       "      <td>RBC</td>\n",
       "      <td>214</td>\n",
       "      <td>327</td>\n",
       "      <td>333</td>\n",
       "      <td>438</td>\n",
       "    </tr>\n",
       "    <tr>\n",
       "      <th>4151</th>\n",
       "      <td>./BCCD_Dataset/BCCD/JPEGImages/BloodImage_0020...</td>\n",
       "      <td>310.jpg</td>\n",
       "      <td>RBC</td>\n",
       "      <td>567</td>\n",
       "      <td>640</td>\n",
       "      <td>193</td>\n",
       "      <td>294</td>\n",
       "    </tr>\n",
       "  </tbody>\n",
       "</table>\n",
       "</div>"
      ],
      "text/plain": [
       "                                              prev_file filename cell_type  \\\n",
       "3070  ./BCCD_Dataset/BCCD/JPEGImages/BloodImage_0008...  225.jpg       WBC   \n",
       "4535  ./BCCD_Dataset/BCCD/JPEGImages/BloodImage_0029...  337.jpg       RBC   \n",
       "4839  ./BCCD_Dataset/BCCD/JPEGImages/BloodImage_0040...  360.jpg       RBC   \n",
       "1348  ./BCCD_Dataset/BCCD/JPEGImages/BloodImage_0024...   96.jpg       RBC   \n",
       "4151  ./BCCD_Dataset/BCCD/JPEGImages/BloodImage_0020...  310.jpg       RBC   \n",
       "\n",
       "      xmin  xmax  ymin  ymax  \n",
       "3070   257   380   335   456  \n",
       "4535   417   536   373   480  \n",
       "4839   479   583   105   202  \n",
       "1348   214   327   333   438  \n",
       "4151   567   640   193   294  "
      ]
     },
     "execution_count": 8,
     "metadata": {},
     "output_type": "execute_result"
    }
   ],
   "source": [
    "dataset = shuffle(dataset)\n",
    "k = ceil(0.8*len(dataset))\n",
    "train = dataset[:k]\n",
    "train.head()"
   ]
  },
  {
   "cell_type": "code",
   "execution_count": 9,
   "metadata": {},
   "outputs": [],
   "source": [
    "test = dataset[k:]\n",
    "train.to_csv('train.csv')\n",
    "test.to_csv('test.csv')"
   ]
  },
  {
   "cell_type": "code",
   "execution_count": null,
   "metadata": {},
   "outputs": [],
   "source": []
  }
 ],
 "metadata": {
  "kernelspec": {
   "display_name": "Python 3",
   "language": "python",
   "name": "python3"
  },
  "language_info": {
   "codemirror_mode": {
    "name": "ipython",
    "version": 3
   },
   "file_extension": ".py",
   "mimetype": "text/x-python",
   "name": "python",
   "nbconvert_exporter": "python",
   "pygments_lexer": "ipython3",
   "version": "3.6.8"
  }
 },
 "nbformat": 4,
 "nbformat_minor": 2
}
